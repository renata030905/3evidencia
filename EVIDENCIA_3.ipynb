{
  "cells": [
    {
      "cell_type": "markdown",
      "metadata": {
        "id": "view-in-github",
        "colab_type": "text"
      },
      "source": [
        "<a href=\"https://colab.research.google.com/github/renata030905/3evidencia/blob/main/EVIDENCIA_3.ipynb\" target=\"_parent\"><img src=\"https://colab.research.google.com/assets/colab-badge.svg\" alt=\"Open In Colab\"/></a>"
      ]
    },
    {
      "cell_type": "code",
      "source": [
        "Entradas=[\n",
        " ['correo','nombre','telefono'],\n",
        " ['juan@gmail.com','Juan','8123232323'],\n",
        " ['maria@gmail.com','Maria','5545454545'],\n",
        " ['diana@homail.com','Diana','4490909090']\n",
        "]\n",
        "for e in Entradas:\n",
        " print(f'{e[0]},{e[1]},{e[2]}')"
      ],
      "metadata": {
        "id": "Yi-Jjtv66r1d",
        "outputId": "3534eb48-ff61-483c-fc21-09753cae040d",
        "colab": {
          "base_uri": "https://localhost:8080/"
        }
      },
      "execution_count": null,
      "outputs": [
        {
          "output_type": "stream",
          "name": "stdout",
          "text": [
            "correo,nombre,telefono\n",
            "juan@gmail.com,Juan,8123232323\n",
            "maria@gmail.com,Maria,5545454545\n",
            "diana@homail.com,Diana,4490909090\n"
          ]
        }
      ]
    },
    {
      "cell_type": "code",
      "source": [
        "import os\n",
        "print(os.getcwd())\n",
        "if os.path.exists(\"agenda.csv.back\"):\n",
        "  os.remove(\"agenda.json.back\")\n",
        "if os.path.exists(\"agenda.csv\"):\n",
        "  os.rename(\"agenda.csv\",\"agenda.csv.back\")\n",
        "if os.path.exists(\"agenda.json\"):\n",
        "  os.rename(\"agenda.json\",\"agenda.json.back\")\n"
      ],
      "metadata": {
        "id": "bz28J-1Vj_aj",
        "outputId": "0fd78bcb-6ec2-4d41-ecd9-ad6551f3e083",
        "colab": {
          "base_uri": "https://localhost:8080/"
        }
      },
      "execution_count": null,
      "outputs": [
        {
          "output_type": "stream",
          "name": "stdout",
          "text": [
            "/content\n"
          ]
        }
      ]
    },
    {
      "cell_type": "code",
      "source": [
        "f = open('agenda.csv','w+')\n",
        "for e in Entradas:\n",
        "  f.write(f'{e[0]}|{e[1]}|{e[2]}\\n')\n",
        "f.close()"
      ],
      "metadata": {
        "id": "tmLoOL2onee1"
      },
      "execution_count": null,
      "outputs": []
    },
    {
      "cell_type": "code",
      "source": [
        "f=open('agenda.csv','r')\n",
        "contenido=f.read()\n",
        "f.close()\n",
        "print(contenido)"
      ],
      "metadata": {
        "id": "vDIo4AxHoqRx",
        "outputId": "9388d6fd-8257-48a0-e542-089310b97cc7",
        "colab": {
          "base_uri": "https://localhost:8080/"
        }
      },
      "execution_count": null,
      "outputs": [
        {
          "output_type": "stream",
          "name": "stdout",
          "text": [
            "correo|nombre|telefono\n",
            "juan@gmail.com|Juan|8123232323\n",
            "maria@gmail.com|Maria|5545454545\n",
            "diana@homail.com|Diana|4490909090\n",
            "\n"
          ]
        }
      ]
    },
    {
      "cell_type": "code",
      "source": [
        "Contactos=[]\n",
        "f = open('agenda.csv','r')\n",
        "for linea in f:\n",
        "  lista_datos=linea.split('|')\n",
        "  print(lista_datos)\n",
        "  lista_datos[2]=lista_datos[2].replace(\"\\n\",\"\")\n",
        "  Contactos.append(lista_datos)\n",
        "f.close()\n",
        "print(Entradas)\n",
        "print(Contactos)\n"
      ],
      "metadata": {
        "id": "N3Vj39Cjo-se",
        "outputId": "795da12e-838d-47a2-e207-ee492f29aa82",
        "colab": {
          "base_uri": "https://localhost:8080/"
        }
      },
      "execution_count": null,
      "outputs": [
        {
          "output_type": "stream",
          "name": "stdout",
          "text": [
            "['correo', 'nombre', 'telefono\\n']\n",
            "['juan@gmail.com', 'Juan', '8123232323\\n']\n",
            "['maria@gmail.com', 'Maria', '5545454545\\n']\n",
            "['diana@homail.com', 'Diana', '4490909090\\n']\n",
            "[['correo', 'nombre', 'telefono'], ['juan@gmail.com', 'Juan', '8123232323'], ['maria@gmail.com', 'Maria', '5545454545'], ['diana@homail.com', 'Diana', '4490909090']]\n",
            "[['correo', 'nombre', 'telefono'], ['juan@gmail.com', 'Juan', '8123232323'], ['maria@gmail.com', 'Maria', '5545454545'], ['diana@homail.com', 'Diana', '4490909090']]\n"
          ]
        }
      ]
    },
    {
      "cell_type": "code",
      "source": [
        "import json\n",
        "datos_json=json.dumps(Contactos,indent=4)\n",
        "print(datos_json)"
      ],
      "metadata": {
        "id": "aoFfxv9LqCYH",
        "outputId": "985cd891-732f-4411-8514-8ba9dd30aa1f",
        "colab": {
          "base_uri": "https://localhost:8080/"
        }
      },
      "execution_count": null,
      "outputs": [
        {
          "output_type": "stream",
          "name": "stdout",
          "text": [
            "[\n",
            "    [\n",
            "        \"correo\",\n",
            "        \"nombre\",\n",
            "        \"telefono\"\n",
            "    ],\n",
            "    [\n",
            "        \"juan@gmail.com\",\n",
            "        \"Juan\",\n",
            "        \"8123232323\"\n",
            "    ],\n",
            "    [\n",
            "        \"maria@gmail.com\",\n",
            "        \"Maria\",\n",
            "        \"5545454545\"\n",
            "    ],\n",
            "    [\n",
            "        \"diana@homail.com\",\n",
            "        \"Diana\",\n",
            "        \"4490909090\"\n",
            "    ]\n",
            "]\n"
          ]
        }
      ]
    },
    {
      "cell_type": "code",
      "source": [
        "f = open('agenda.json','w+')\n",
        "f.write(datos_json)\n",
        "f.close()\n"
      ],
      "metadata": {
        "id": "fxu093wIqcV5"
      },
      "execution_count": null,
      "outputs": []
    },
    {
      "cell_type": "code",
      "source": [
        "f = open('agenda.json','r')\n",
        "Contactos_JSON=json.loads(f.read())\n",
        "print(Entradas)\n",
        "print(Contactos)\n",
        "print(Contactos_JSON)"
      ],
      "metadata": {
        "id": "QPdPrnglqpgK",
        "outputId": "7ac15e17-3505-43d9-cde6-e8fedeedbfcb",
        "colab": {
          "base_uri": "https://localhost:8080/"
        }
      },
      "execution_count": null,
      "outputs": [
        {
          "output_type": "stream",
          "name": "stdout",
          "text": [
            "[['correo', 'nombre', 'telefono'], ['juan@gmail.com', 'Juan', '8123232323'], ['maria@gmail.com', 'Maria', '5545454545'], ['diana@homail.com', 'Diana', '4490909090']]\n",
            "[['correo', 'nombre', 'telefono'], ['juan@gmail.com', 'Juan', '8123232323'], ['maria@gmail.com', 'Maria', '5545454545'], ['diana@homail.com', 'Diana', '4490909090']]\n",
            "[['correo', 'nombre', 'telefono'], ['juan@gmail.com', 'Juan', '8123232323'], ['maria@gmail.com', 'Maria', '5545454545'], ['diana@homail.com', 'Diana', '4490909090']]\n"
          ]
        }
      ]
    },
    {
      "cell_type": "code",
      "source": [
        "import os\n",
        "import pickle\n",
        "print(Entradas)\n",
        "print(type(Entradas))"
      ],
      "metadata": {
        "id": "koh3XDtDq-r6",
        "outputId": "732fee7a-e47e-4ce7-dad4-d418544bf33a",
        "colab": {
          "base_uri": "https://localhost:8080/"
        }
      },
      "execution_count": null,
      "outputs": [
        {
          "output_type": "stream",
          "name": "stdout",
          "text": [
            "[['correo', 'nombre', 'telefono'], ['juan@gmail.com', 'Juan', '8123232323'], ['maria@gmail.com', 'Maria', '5545454545'], ['diana@homail.com', 'Diana', '4490909090']]\n",
            "<class 'list'>\n"
          ]
        }
      ]
    },
    {
      "cell_type": "code",
      "source": [
        "with open(\"Entradas.pickle\",\"wb+\") as f:\n",
        " pickle.dump(Entradas,f)\n",
        "with open(\"Entradas.pickle\",\"rb\") as f:\n",
        " Recuperado=pickle.load(f)\n",
        "print(Entradas==Recuperado)"
      ],
      "metadata": {
        "id": "t3ULE_WjrM9Q",
        "outputId": "cbb13ab6-d3df-439b-a5cb-e577802e45b0",
        "colab": {
          "base_uri": "https://localhost:8080/"
        }
      },
      "execution_count": null,
      "outputs": [
        {
          "output_type": "stream",
          "name": "stdout",
          "text": [
            "True\n"
          ]
        }
      ]
    }
  ],
  "metadata": {
    "colab": {
      "toc_visible": true,
      "provenance": [],
      "include_colab_link": true
    },
    "kernelspec": {
      "display_name": "Python 3",
      "name": "python3"
    }
  },
  "nbformat": 4,
  "nbformat_minor": 0
}